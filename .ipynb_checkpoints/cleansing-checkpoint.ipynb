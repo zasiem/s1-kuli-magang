{
 "cells": [
  {
   "cell_type": "code",
   "execution_count": 158,
   "metadata": {},
   "outputs": [],
   "source": [
    "import re\n",
    "\n",
    "import pandas as pd\n",
    "import numpy as np"
   ]
  },
  {
   "cell_type": "code",
   "execution_count": 159,
   "metadata": {},
   "outputs": [
    {
     "data": {
      "text/plain": [
       "(8016, 3)"
      ]
     },
     "execution_count": 159,
     "metadata": {},
     "output_type": "execute_result"
    }
   ],
   "source": [
    "df = pd.read_csv('tweet-data/File Startup 1.csv')\n",
    "df = df.append(pd.read_csv('tweet-data/File Startup 2.csv').sample(n = 125), ignore_index = True)\n",
    "df = df.append(pd.read_csv('tweet-data/File Startup 3.csv').sample(n = 125), ignore_index = True)\n",
    "df = df.append(pd.read_csv('tweet-data/File Startup 4.csv').sample(n = 125), ignore_index = True)\n",
    "df = df.append(pd.read_csv('tweet-data/File Startup 5.csv').sample(n = 125), ignore_index = True)\n",
    "df = df.append(pd.read_csv('tweet-data/File Startup 6.csv').sample(n = 125), ignore_index = True)\n",
    "df = df.append(pd.read_csv('tweet-data/File Startup 7.csv').sample(n = 125), ignore_index = True)\n",
    "df = df.append(pd.read_csv('tweet-data/File Startup 8.csv').sample(n = 125), ignore_index = True)\n",
    "df = df.append(pd.read_csv('tweet-data/File Startup 9.csv').sample(n = 125), ignore_index = True)\n",
    "df = df.append(pd.read_csv('tweet-data/File Startup 10.csv').sample(n = 125), ignore_index = True)\n",
    "df = df.append(pd.read_csv('tweet-data/File Startup 11.csv').sample(n = 125), ignore_index = True)\n",
    "df = df.append(pd.read_csv('tweet-data/File Startup 12.csv').sample(n = 125), ignore_index = True)\n",
    "df = df.append(pd.read_csv('tweet-data/File Startup 13.csv').sample(n = 125), ignore_index = True)\n",
    "df = df.append(pd.read_csv('tweet-data/File Startup 14.csv').sample(n = 125), ignore_index = True)\n",
    "df = df.append(pd.read_csv('tweet-data/File Startup 15.csv').sample(n = 125), ignore_index = True)\n",
    "df = df.append(pd.read_csv('tweet-data/File Startup 16.csv').sample(n = 125), ignore_index = True)\n",
    "df.shape"
   ]
  },
  {
   "cell_type": "code",
   "execution_count": 160,
   "metadata": {},
   "outputs": [
    {
     "data": {
      "text/html": [
       "<div>\n",
       "<style scoped>\n",
       "    .dataframe tbody tr th:only-of-type {\n",
       "        vertical-align: middle;\n",
       "    }\n",
       "\n",
       "    .dataframe tbody tr th {\n",
       "        vertical-align: top;\n",
       "    }\n",
       "\n",
       "    .dataframe thead th {\n",
       "        text-align: right;\n",
       "    }\n",
       "</style>\n",
       "<table border=\"1\" class=\"dataframe\">\n",
       "  <thead>\n",
       "    <tr style=\"text-align: right;\">\n",
       "      <th></th>\n",
       "      <th>Date</th>\n",
       "      <th>Tweet</th>\n",
       "    </tr>\n",
       "  </thead>\n",
       "  <tbody>\n",
       "    <tr>\n",
       "      <th>0</th>\n",
       "      <td>2020-12-15 15:08:12+00:00</td>\n",
       "      <td>me rn, 100% wanna watch startup! honestly, sta...</td>\n",
       "    </tr>\n",
       "    <tr>\n",
       "      <th>1</th>\n",
       "      <td>2020-12-05 16:54:42+00:00</td>\n",
       "      <td>He wins a knife fight - but loses something el...</td>\n",
       "    </tr>\n",
       "    <tr>\n",
       "      <th>2</th>\n",
       "      <td>2020-12-09 10:06:29+00:00</td>\n",
       "      <td>Sumpah aku pas di scene ini nangis berasa mama...</td>\n",
       "    </tr>\n",
       "    <tr>\n",
       "      <th>3</th>\n",
       "      <td>2020-12-09 05:29:34+00:00</td>\n",
       "      <td>baru tengok sikit dah sakit hati. Duit lebih p...</td>\n",
       "    </tr>\n",
       "    <tr>\n",
       "      <th>4</th>\n",
       "      <td>2020-12-09 02:40:47+00:00</td>\n",
       "      <td>Tadinya bingung mau nntn yang mana dulu Antara...</td>\n",
       "    </tr>\n",
       "  </tbody>\n",
       "</table>\n",
       "</div>"
      ],
      "text/plain": [
       "                        Date  \\\n",
       "0  2020-12-15 15:08:12+00:00   \n",
       "1  2020-12-05 16:54:42+00:00   \n",
       "2  2020-12-09 10:06:29+00:00   \n",
       "3  2020-12-09 05:29:34+00:00   \n",
       "4  2020-12-09 02:40:47+00:00   \n",
       "\n",
       "                                               Tweet  \n",
       "0  me rn, 100% wanna watch startup! honestly, sta...  \n",
       "1  He wins a knife fight - but loses something el...  \n",
       "2  Sumpah aku pas di scene ini nangis berasa mama...  \n",
       "3  baru tengok sikit dah sakit hati. Duit lebih p...  \n",
       "4  Tadinya bingung mau nntn yang mana dulu Antara...  "
      ]
     },
     "execution_count": 160,
     "metadata": {},
     "output_type": "execute_result"
    }
   ],
   "source": [
    "def cleanTxt(text):\n",
    "#     text = text.decode(\"utf-8\")\n",
    "    text = re.sub(r'@[A-Za-z0-9]+', '', text)\n",
    "    text = re.sub(r'#\\w+ ?', '', text)\n",
    "    text = re.sub(r'RT[\\s]+', '', text)\n",
    "    text = re.sub(r'https?:\\/\\/\\S+', '', text)\n",
    "    text = re.sub(r\"\\\\n\", ' ', text)\n",
    "    text = re.sub(r\"\\\\\\w+\", '', text)\n",
    "    text = re.sub(r'&\\w+ ?', '', text)\n",
    "    text = text[2:-1]\n",
    "    \n",
    "    return text\n",
    "\n",
    "df['Tweet'] = df['Tweet'].apply(cleanTxt)\n",
    "tweets = df[['Date','Tweet']]\n",
    "tweets = tweets.drop_duplicates(subset=['Tweet'])\n",
    "tweets.head()"
   ]
  },
  {
   "cell_type": "code",
   "execution_count": 161,
   "metadata": {},
   "outputs": [
    {
     "data": {
      "text/html": [
       "<div>\n",
       "<style scoped>\n",
       "    .dataframe tbody tr th:only-of-type {\n",
       "        vertical-align: middle;\n",
       "    }\n",
       "\n",
       "    .dataframe tbody tr th {\n",
       "        vertical-align: top;\n",
       "    }\n",
       "\n",
       "    .dataframe thead th {\n",
       "        text-align: right;\n",
       "    }\n",
       "</style>\n",
       "<table border=\"1\" class=\"dataframe\">\n",
       "  <thead>\n",
       "    <tr style=\"text-align: right;\">\n",
       "      <th></th>\n",
       "      <th>Date</th>\n",
       "      <th>Tweet</th>\n",
       "    </tr>\n",
       "  </thead>\n",
       "  <tbody>\n",
       "    <tr>\n",
       "      <th>0</th>\n",
       "      <td>2020-11-24 02:41:54+00:00</td>\n",
       "      <td>After watched , i see there\\'re a lot of peopl...</td>\n",
       "    </tr>\n",
       "    <tr>\n",
       "      <th>1</th>\n",
       "      <td>2020-10-25 12:51:12+00:00</td>\n",
       "      <td>Setelah 3 eps maraton dramanya, masih seru si,...</td>\n",
       "    </tr>\n",
       "    <tr>\n",
       "      <th>2</th>\n",
       "      <td>2020-11-15 04:45:52+00:00</td>\n",
       "      <td>Setau gue waktu itu jipyeong udh mau nyamperin...</td>\n",
       "    </tr>\n",
       "    <tr>\n",
       "      <th>3</th>\n",
       "      <td>2020-11-09 08:22:59+00:00</td>\n",
       "      <td>Baru kali ini nonton drama romance tapi ga nge...</td>\n",
       "    </tr>\n",
       "    <tr>\n",
       "      <th>4</th>\n",
       "      <td>2020-11-16 16:06:02+00:00</td>\n",
       "      <td>Dosan ngrasa brntung ktmu Dalmi, tp tiap inget...</td>\n",
       "    </tr>\n",
       "  </tbody>\n",
       "</table>\n",
       "</div>"
      ],
      "text/plain": [
       "                        Date  \\\n",
       "0  2020-11-24 02:41:54+00:00   \n",
       "1  2020-10-25 12:51:12+00:00   \n",
       "2  2020-11-15 04:45:52+00:00   \n",
       "3  2020-11-09 08:22:59+00:00   \n",
       "4  2020-11-16 16:06:02+00:00   \n",
       "\n",
       "                                               Tweet  \n",
       "0  After watched , i see there\\'re a lot of peopl...  \n",
       "1  Setelah 3 eps maraton dramanya, masih seru si,...  \n",
       "2  Setau gue waktu itu jipyeong udh mau nyamperin...  \n",
       "3  Baru kali ini nonton drama romance tapi ga nge...  \n",
       "4  Dosan ngrasa brntung ktmu Dalmi, tp tiap inget...  "
      ]
     },
     "execution_count": 161,
     "metadata": {},
     "output_type": "execute_result"
    }
   ],
   "source": [
    "tweets.index = tweets['Tweet'].str.len()\n",
    "tweets = tweets.sort_index(ascending=False).reset_index(drop=True)\n",
    "tweets = tweets[0:2000]\n",
    "tweets.head()"
   ]
  },
  {
   "cell_type": "code",
   "execution_count": 157,
   "metadata": {},
   "outputs": [],
   "source": [
    "tweets.to_excel('tweets_filtered.xlsx')"
   ]
  }
 ],
 "metadata": {
  "kernelspec": {
   "display_name": "Python 3",
   "language": "python",
   "name": "python3"
  },
  "language_info": {
   "codemirror_mode": {
    "name": "ipython",
    "version": 3
   },
   "file_extension": ".py",
   "mimetype": "text/x-python",
   "name": "python",
   "nbconvert_exporter": "python",
   "pygments_lexer": "ipython3",
   "version": "3.7.3"
  }
 },
 "nbformat": 4,
 "nbformat_minor": 4
}
