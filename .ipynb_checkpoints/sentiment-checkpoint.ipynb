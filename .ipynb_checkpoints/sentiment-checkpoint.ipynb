{
 "cells": [
  {
   "cell_type": "code",
   "execution_count": 165,
   "metadata": {},
   "outputs": [
    {
     "data": {
      "text/html": [
       "<div>\n",
       "<style scoped>\n",
       "    .dataframe tbody tr th:only-of-type {\n",
       "        vertical-align: middle;\n",
       "    }\n",
       "\n",
       "    .dataframe tbody tr th {\n",
       "        vertical-align: top;\n",
       "    }\n",
       "\n",
       "    .dataframe thead th {\n",
       "        text-align: right;\n",
       "    }\n",
       "</style>\n",
       "<table border=\"1\" class=\"dataframe\">\n",
       "  <thead>\n",
       "    <tr style=\"text-align: right;\">\n",
       "      <th></th>\n",
       "      <th>tweet</th>\n",
       "      <th>label</th>\n",
       "    </tr>\n",
       "  </thead>\n",
       "  <tbody>\n",
       "    <tr>\n",
       "      <th>0</th>\n",
       "      <td>Di awali dengan scene bawang ini, mau nangis t...</td>\n",
       "      <td>0.0</td>\n",
       "    </tr>\n",
       "    <tr>\n",
       "      <th>1</th>\n",
       "      <td>gila ni drama cakep bgt, cinematography-nya ke...</td>\n",
       "      <td>1.0</td>\n",
       "    </tr>\n",
       "    <tr>\n",
       "      <th>2</th>\n",
       "      <td>jahat bgt</td>\n",
       "      <td>0.0</td>\n",
       "    </tr>\n",
       "    <tr>\n",
       "      <th>3</th>\n",
       "      <td>gua kalo males nonton drakor gua stalk GTGT W...</td>\n",
       "      <td>0.0</td>\n",
       "    </tr>\n",
       "    <tr>\n",
       "      <th>4</th>\n",
       "      <td>Nam do san emang dikasih preview dikit bgt di ...</td>\n",
       "      <td>0.0</td>\n",
       "    </tr>\n",
       "  </tbody>\n",
       "</table>\n",
       "</div>"
      ],
      "text/plain": [
       "                                               tweet  label\n",
       "0  Di awali dengan scene bawang ini, mau nangis t...    0.0\n",
       "1  gila ni drama cakep bgt, cinematography-nya ke...    1.0\n",
       "2                                          jahat bgt    0.0\n",
       "3   gua kalo males nonton drakor gua stalk GTGT W...    0.0\n",
       "4  Nam do san emang dikasih preview dikit bgt di ...    0.0"
      ]
     },
     "execution_count": 165,
     "metadata": {},
     "output_type": "execute_result"
    }
   ],
   "source": [
    "import pandas as pd\n",
    "import numpy as np\n",
    "\n",
    "tweets = pd.read_excel('tweets_labeled.xlsx')\n",
    "tweets = tweets.drop(columns=['date', 'Judgement 1', 'Judgement 2', 'Judgement 3'])\n",
    "tweets.head()"
   ]
  },
  {
   "cell_type": "code",
   "execution_count": 166,
   "metadata": {},
   "outputs": [
    {
     "name": "stdout",
     "output_type": "stream",
     "text": [
      "Null Label : 4\n",
      "Null Label After Clean: 0\n"
     ]
    }
   ],
   "source": [
    "print('Null Label :',tweets['label'].isnull().sum())\n",
    "tweets = tweets.dropna()\n",
    "print('Null Label After Clean:',tweets['label'].isnull().sum())"
   ]
  },
  {
   "cell_type": "code",
   "execution_count": 167,
   "metadata": {},
   "outputs": [
    {
     "data": {
      "text/html": [
       "<div>\n",
       "<style scoped>\n",
       "    .dataframe tbody tr th:only-of-type {\n",
       "        vertical-align: middle;\n",
       "    }\n",
       "\n",
       "    .dataframe tbody tr th {\n",
       "        vertical-align: top;\n",
       "    }\n",
       "\n",
       "    .dataframe thead th {\n",
       "        text-align: right;\n",
       "    }\n",
       "</style>\n",
       "<table border=\"1\" class=\"dataframe\">\n",
       "  <thead>\n",
       "    <tr style=\"text-align: right;\">\n",
       "      <th></th>\n",
       "      <th>label</th>\n",
       "    </tr>\n",
       "  </thead>\n",
       "  <tbody>\n",
       "    <tr>\n",
       "      <th>count</th>\n",
       "      <td>2085.000000</td>\n",
       "    </tr>\n",
       "    <tr>\n",
       "      <th>mean</th>\n",
       "      <td>0.619185</td>\n",
       "    </tr>\n",
       "    <tr>\n",
       "      <th>std</th>\n",
       "      <td>0.711717</td>\n",
       "    </tr>\n",
       "    <tr>\n",
       "      <th>min</th>\n",
       "      <td>0.000000</td>\n",
       "    </tr>\n",
       "    <tr>\n",
       "      <th>25%</th>\n",
       "      <td>0.000000</td>\n",
       "    </tr>\n",
       "    <tr>\n",
       "      <th>50%</th>\n",
       "      <td>0.000000</td>\n",
       "    </tr>\n",
       "    <tr>\n",
       "      <th>75%</th>\n",
       "      <td>1.000000</td>\n",
       "    </tr>\n",
       "    <tr>\n",
       "      <th>max</th>\n",
       "      <td>2.000000</td>\n",
       "    </tr>\n",
       "  </tbody>\n",
       "</table>\n",
       "</div>"
      ],
      "text/plain": [
       "             label\n",
       "count  2085.000000\n",
       "mean      0.619185\n",
       "std       0.711717\n",
       "min       0.000000\n",
       "25%       0.000000\n",
       "50%       0.000000\n",
       "75%       1.000000\n",
       "max       2.000000"
      ]
     },
     "execution_count": 167,
     "metadata": {},
     "output_type": "execute_result"
    }
   ],
   "source": [
    "tweets.describe()"
   ]
  },
  {
   "cell_type": "code",
   "execution_count": 168,
   "metadata": {},
   "outputs": [
    {
     "data": {
      "text/plain": [
       "0.0    1076\n",
       "1.0     727\n",
       "2.0     282\n",
       "Name: label, dtype: int64"
      ]
     },
     "execution_count": 168,
     "metadata": {},
     "output_type": "execute_result"
    }
   ],
   "source": [
    "tweets['label'].value_counts()"
   ]
  },
  {
   "cell_type": "code",
   "execution_count": 169,
   "metadata": {},
   "outputs": [
    {
     "data": {
      "text/html": [
       "<div>\n",
       "<style scoped>\n",
       "    .dataframe tbody tr th:only-of-type {\n",
       "        vertical-align: middle;\n",
       "    }\n",
       "\n",
       "    .dataframe tbody tr th {\n",
       "        vertical-align: top;\n",
       "    }\n",
       "\n",
       "    .dataframe thead th {\n",
       "        text-align: right;\n",
       "    }\n",
       "</style>\n",
       "<table border=\"1\" class=\"dataframe\">\n",
       "  <thead>\n",
       "    <tr style=\"text-align: right;\">\n",
       "      <th></th>\n",
       "      <th>tweet</th>\n",
       "      <th>label</th>\n",
       "    </tr>\n",
       "  </thead>\n",
       "  <tbody>\n",
       "    <tr>\n",
       "      <th>0</th>\n",
       "      <td>Di awali dengan scene bawang ini mau nangis ta...</td>\n",
       "      <td>0.0</td>\n",
       "    </tr>\n",
       "    <tr>\n",
       "      <th>1</th>\n",
       "      <td>gila ni drama cakep bgt cinematography nya kec...</td>\n",
       "      <td>1.0</td>\n",
       "    </tr>\n",
       "    <tr>\n",
       "      <th>2</th>\n",
       "      <td>jahat bgt</td>\n",
       "      <td>0.0</td>\n",
       "    </tr>\n",
       "    <tr>\n",
       "      <th>3</th>\n",
       "      <td>gua kalo males nonton drakor gua stalk GTGT WK...</td>\n",
       "      <td>0.0</td>\n",
       "    </tr>\n",
       "    <tr>\n",
       "      <th>4</th>\n",
       "      <td>Nam do san emang dikasih preview dikit bgt di ...</td>\n",
       "      <td>0.0</td>\n",
       "    </tr>\n",
       "  </tbody>\n",
       "</table>\n",
       "</div>"
      ],
      "text/plain": [
       "                                               tweet  label\n",
       "0  Di awali dengan scene bawang ini mau nangis ta...    0.0\n",
       "1  gila ni drama cakep bgt cinematography nya kec...    1.0\n",
       "2                                          jahat bgt    0.0\n",
       "3  gua kalo males nonton drakor gua stalk GTGT WK...    0.0\n",
       "4  Nam do san emang dikasih preview dikit bgt di ...    0.0"
      ]
     },
     "execution_count": 169,
     "metadata": {},
     "output_type": "execute_result"
    }
   ],
   "source": [
    "import re\n",
    "\n",
    "def cleanTxt(text):\n",
    "    text = re.sub(\"[^a-zA-Z]+\", \" \", text)\n",
    "    text = text.strip()\n",
    "    \n",
    "    return text\n",
    "\n",
    "tweets['tweet'] = tweets['tweet'].apply(cleanTxt)\n",
    "tweets.head()"
   ]
  },
  {
   "cell_type": "code",
   "execution_count": 170,
   "metadata": {},
   "outputs": [
    {
     "data": {
      "text/plain": [
       "0    [di, awali, dengan, scene, bawang, ini, mau, n...\n",
       "1    [gila, ni, drama, cakep, bgt, cinematography, ...\n",
       "2                                         [jahat, bgt]\n",
       "3    [gua, kalo, males, nonton, drakor, gua, stalk,...\n",
       "4    [nam, do, san, emang, dikasih, preview, dikit,...\n",
       "5    [eps, nya, banjirrr, bangett, eps, nya, ngakak...\n",
       "6    [baru, mulai, nonton, drama, ini, episode, ya,...\n",
       "7         [baru, episode, pertama, dah, bikin, nanges]\n",
       "8    [iyaaaa, dia, matiiii, huhuhu, coba, deh, km, ...\n",
       "9                                          [puarahhhh]\n",
       "Name: tweet_token, dtype: object"
      ]
     },
     "execution_count": 170,
     "metadata": {},
     "output_type": "execute_result"
    }
   ],
   "source": [
    "import nltk\n",
    "from nltk.tokenize import word_tokenize \n",
    "\n",
    "#case folding\n",
    "def case_folding(text):\n",
    "        return text.casefold()\n",
    "    \n",
    "tweets['tweet'] = tweets['tweet'].apply(case_folding)\n",
    "  \n",
    "#tokenizing\n",
    "def tokenize(text):\n",
    "        return word_tokenize(text)\n",
    "\n",
    "tweets['tweet_token'] = tweets['tweet'].apply(tokenize)\n",
    "tweets['tweet_token'].head(10)"
   ]
  },
  {
   "cell_type": "code",
   "execution_count": 184,
   "metadata": {},
   "outputs": [
    {
     "data": {
      "text/plain": [
       "0       [di, awali, dengan, scene, bawang, ini, mau, n...\n",
       "1       [gila, ni, drama, cakep, bgt, cinematography, ...\n",
       "2                                            [jahat, bgt]\n",
       "3       [gua, kalo, males, nonton, drakor, gua, stalk,...\n",
       "4       [nam, do, san, emang, dikasih, preview, dikit,...\n",
       "5       [eps, nya, banjir, banget, eps, nya, ngakak, b...\n",
       "6       [baru, mulai, nonton, drama, ini, episode, ya,...\n",
       "7            [baru, episode, pertama, dah, bikin, nanges]\n",
       "8       [iya, dia, mati, huhuhu, coba, deh, km, cek, h...\n",
       "9                                                [puarah]\n",
       "10      [ini, beneran, realistis, tapi, emaknya, emg, ...\n",
       "11                       [aku, gatau, kl, se, sedih, ini]\n",
       "12      [aku, tuh, lemah, kalo, liat, scene, bapak, da...\n",
       "13      [sial, kejebak, nya, drakor, ginian, lagi, sue...\n",
       "14      [episode, udah, mengandung, banyak, bawang, se...\n",
       "16                            [dah, lah, keren, bgt, woi]\n",
       "17                          [baru, juga, udh, ngis, rame]\n",
       "18                         [sinematografinya, keren, bgt]\n",
       "19                                     [kdrama, unlocked]\n",
       "20                     [buat, aku, nangis, teresak, esak]\n",
       "21      [ketidak, pedulian, adalah, bentuk, balas, den...\n",
       "22      [memasuki, waktu, keracunan, drama, start, up,...\n",
       "24      [karena, aku, harus, melepaskan, orang, yg, ku...\n",
       "25      [tp, apapun, itu, aku, sesayang, itu, sama, pa...\n",
       "26      [malem, tolong, lagi, nonton, terus, kaya, ga,...\n",
       "27      [episode, drakor, yang, paling, membekas, dan,...\n",
       "28      [kenapa, drama, harus, dimulai, dan, penonton,...\n",
       "29      [gak, suka, drama, romance, krn, suka, main, l...\n",
       "30      [nyicip, gila, bertabur, bintang, seru, bgt, n...\n",
       "31               [jipyeong, or, dosan, both, gue, puyeng]\n",
       "                              ...                        \n",
       "2059        [berakhir, bahagia, dengan, apa, kabar, asia]\n",
       "2060    [meskipun, bakalan, tau, endingnya, pasti, dal...\n",
       "2061    [alhamdulilah, akhirnya, kelar, tepat, waktu, ...\n",
       "2062                                              [sedih]\n",
       "2063    [beberapa, keuntungan, nonton, kdrama, mendeka...\n",
       "2064    [terima, kasih, kepada, samsan, tech, kalian, ...\n",
       "2065    [jika, tidak, ingin, jadi, penipu, maka, janga...\n",
       "2066    [meskipun, aku, setiap, hari, membaca, suratmu...\n",
       "2067    [bahkan, sampe, liat, wedingnya, dodal, pun, a...\n",
       "2068                                    [akhirnya, tamat]\n",
       "2069                           [ngena, bgt, ini, di, aku]\n",
       "2070    [pengen, bgt, jodohin, ji, pyeong, sama, in, j...\n",
       "2071    [pilih, punya, pacar, programer, atau, direktu...\n",
       "2072    [wah, parah, sih, gue, padahal, udah, tau, kal...\n",
       "2073    [terimakasih, buat, semua, pelajaran, berharga...\n",
       "2074    [sebenernya, cocok, jadi, kakak, adik, kalian,...\n",
       "2075    [walaupun, dal, mi, tak, together, dengan, ji,...\n",
       "2076    [gue, pengin, lihat, sekali, lagi, euphoria, m...\n",
       "2077    [kalo, dari, segi, kemistri, udah, mantep, ban...\n",
       "2078                               [puas, dengan, ending]\n",
       "2079    [yay, akhirnya, hapy, ending, untuk, pak, han,...\n",
       "2080                        [telat, sehari, gapapa, kali]\n",
       "2081    [orang, kalo, lagi, kasmaran, emang, gitu, kep...\n",
       "2082    [abis, rewatch, lagi, baru, sadar, jempolnya, ...\n",
       "2083    [nonton, episode, terakhirnya, masih, sampai, ...\n",
       "2084    [gk, tega, ama, ji, pyeong, ntah, mengapa, pep...\n",
       "2085    [sekarang, beralih, ke, serba, serbi, ending, ...\n",
       "2086    [dari, sini, kita, belajar, bahwa, titik, tert...\n",
       "2087    [eps, ini, paling, mewek, sih, apalagi, pas, a...\n",
       "2088    [gimana, nya, video, cover, ost, start, up, ga...\n",
       "Name: tweet_token, Length: 2085, dtype: object"
      ]
     },
     "execution_count": 184,
     "metadata": {},
     "output_type": "execute_result"
    }
   ],
   "source": [
    "#remove double letter\n",
    "\n",
    "def remove_double(text):\n",
    "    return re.sub(r'(.)\\1+', r'\\1', text)\n",
    "\n",
    "tempList = []\n",
    "for index, token in enumerate(tweets['tweet_token']) :\n",
    "    map_object = map(remove_double, token)\n",
    "    new_list = list(map_object)\n",
    "    tempList.append(new_list)\n",
    "    \n",
    "tweets['tweet_token'] = tempList\n",
    "tweets['tweet_token']"
   ]
  },
  {
   "cell_type": "code",
   "execution_count": 190,
   "metadata": {},
   "outputs": [
    {
     "name": "stdout",
     "output_type": "stream",
     "text": [
      "970                       [nangis, jelek, banget, nonton]\n",
      "328     [coba, han, ji, pyeong, ngaku, gak, tolong, na...\n",
      "1678    [gapapa, han, udh, berjuang, menghilangkan, ke...\n",
      "1029    [nam, dosan, nyonteknya, cuman, sekilas, gitu,...\n",
      "629     [sebenernya, penumpang, kapal, dosan, dalmi, h...\n",
      "218     [dalmi, muka, kotak, music, overthinking, dalm...\n",
      "48      [bawang, scene, lucunya, scene, nenek, dal, mi...\n",
      "1506    [udh, hihihi, ji, pyeong, kebanyakan, embel, e...\n",
      "138     [kena, second, lead, syndrome, so, far, terpan...\n",
      "1581                 [samanya, gaksih, kaya, setuju, gak]\n",
      "1685              [mantap, banget, alasanya, yuk, buruan]\n",
      "371     [lagu, col, banget, jam, jam, teng, pilih, kuy...\n",
      "1183    [something, wrong, alex, nampak, je, scamer, e...\n",
      "1245    [sayang, banget, han, dateng, demo, day, kelia...\n",
      "2011    [bener, start, up, drama, penjalasan, tg, inti...\n",
      "1089                                           [cakepnya]\n",
      "1999                [samsan, check, muter, muter, wkwkwk]\n",
      "1122                                       [done, cerita]\n",
      "1238       [han, anak, hidupnya, nangisnya, sampe, nular]\n",
      "253                                       [kang, han, na]\n",
      "357     [start, up, episode, kasian, banget, chul, san...\n",
      "1952    [m, do, san, silicon, valey, laptopnya, gak, g...\n",
      "1707    [nasihat, hanbin, ji, pyeong, hyung, cr, on, v...\n",
      "1189    [dalmi, memilih, mu, han, ingatlah, mendukung,...\n",
      "1809                                    [habis, munculah]\n",
      "Name: tweet_token_swr, dtype: object\n"
     ]
    }
   ],
   "source": [
    "#stop word removing\n",
    "from nltk.corpus import stopwords\n",
    "\n",
    "list_stopwords = stopwords.words('indonesian')\n",
    "\n",
    "list_stopwords.extend(['huhuhu', 'dg', 'rt', 'dgn', 'ny', 'lu', 'klo', 'ini', 'aku', 'ada',\n",
    "                       'kalo', 'amp', 'biar', 'bilang', 'gue', 'gw', 'di', 'gua', 'spt',\n",
    "                        'krn', 'krna', 'nya', 'nih', 'sih', 'untk', 'sbg', 'utk', 'karna',\n",
    "                       'si', 'tau', 'tdk', 'tuh','ya', 'yang', 'itu', 'seh', 'dr', 'ga', \n",
    "                       'jd', 'jgn', 'sdh', 'aja', 'sdh', 'dah', 'knp', 'bkn', 'ke', 'dari',\n",
    "                       'rek', 'nyong', 'wkwk', 'trs', 'ttg', 'seperti', 'km','ni', 'oh', 'smpe'\n",
    "                       'sudah', 'emg', 'iya', 'pas', 'kayak', 'woooo', 'elu', 'sm'\n",
    "                       'nyg', 'hehe', 'pen', 'nder', 'nan', 'loh', 'rt', 'dan', 'di', 'jdi', \n",
    "                       'dlu', 'guys', 'rek', 'lur', 'lg', 'pdhl', 'jg', 'yipey', 'bgt', 'mah', 'lgi'\n",
    "                       'knapa', 'yah', 'ngmg', 'njing', 'ngmgi', 'yg', 'tpi', 'tp', 'karena', 'ih', 'oey'])\n",
    "\n",
    "\n",
    "list_stopwords = set(list_stopwords)\n",
    "\n",
    "def stopwords_removal(words):\n",
    "    return [word for word in words if word not in list_stopwords]\n",
    "\n",
    "tweets['tweet_token_swr'] = tweets['tweet_token'].apply(stopwords_removal) \n",
    "\n",
    "\n",
    "print(tweets['tweet_token_swr'].sample(25))"
   ]
  },
  {
   "cell_type": "code",
   "execution_count": 191,
   "metadata": {},
   "outputs": [
    {
     "ename": "ModuleNotFoundError",
     "evalue": "No module named 'Sastrawi'",
     "output_type": "error",
     "traceback": [
      "\u001b[1;31m---------------------------------------------------------------------------\u001b[0m",
      "\u001b[1;31mModuleNotFoundError\u001b[0m                       Traceback (most recent call last)",
      "\u001b[1;32m<ipython-input-191-f43cbd873dd9>\u001b[0m in \u001b[0;36m<module>\u001b[1;34m\u001b[0m\n\u001b[0;32m      1\u001b[0m \u001b[1;31m#stemming\u001b[0m\u001b[1;33m\u001b[0m\u001b[1;33m\u001b[0m\u001b[1;33m\u001b[0m\u001b[0m\n\u001b[1;32m----> 2\u001b[1;33m \u001b[1;32mfrom\u001b[0m \u001b[0mSastrawi\u001b[0m\u001b[1;33m.\u001b[0m\u001b[0mStemmer\u001b[0m\u001b[1;33m.\u001b[0m\u001b[0mStemmerFactory\u001b[0m \u001b[1;32mimport\u001b[0m \u001b[0mStemmerFactory\u001b[0m\u001b[1;33m\u001b[0m\u001b[1;33m\u001b[0m\u001b[0m\n\u001b[0m",
      "\u001b[1;31mModuleNotFoundError\u001b[0m: No module named 'Sastrawi'"
     ]
    }
   ],
   "source": [
    "#stemming\n",
    "from Sastrawi.Stemmer.StemmerFactory import StemmerFactory"
   ]
  }
 ],
 "metadata": {
  "kernelspec": {
   "display_name": "Python 3",
   "language": "python",
   "name": "python3"
  },
  "language_info": {
   "codemirror_mode": {
    "name": "ipython",
    "version": 3
   },
   "file_extension": ".py",
   "mimetype": "text/x-python",
   "name": "python",
   "nbconvert_exporter": "python",
   "pygments_lexer": "ipython3",
   "version": "3.7.3"
  }
 },
 "nbformat": 4,
 "nbformat_minor": 4
}
