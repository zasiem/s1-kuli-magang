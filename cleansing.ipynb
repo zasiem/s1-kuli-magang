{
 "cells": [
  {
   "cell_type": "code",
   "execution_count": 3,
   "metadata": {},
   "outputs": [
    {
     "data": {
      "text/plain": [
       "(234, 2)"
      ]
     },
     "execution_count": 3,
     "metadata": {},
     "output_type": "execute_result"
    }
   ],
   "source": [
    "import re\n",
    "\n",
    "import pandas as pd\n",
    "import numpy as np\n",
    "\n",
    "# df = pd.read_csv('additional.csv')\n",
    "\n",
    "df = pd.read_csv('tweet-data/File Startup 1.csv').sample(n = 130)\n",
    "df = df.append(pd.read_csv('tweet-data/File Startup 2.csv').sample(n = 130), ignore_index = True)\n",
    "df = df.append(pd.read_csv('tweet-data/File Startup 3.csv').sample(n = 130), ignore_index = True)\n",
    "df = df.append(pd.read_csv('tweet-data/File Startup 4.csv').sample(n = 130), ignore_index = True)\n",
    "df = df.append(pd.read_csv('tweet-data/File Startup 5.csv').sample(n = 130), ignore_index = True)\n",
    "df = df.append(pd.read_csv('tweet-data/File Startup 6.csv').sample(n = 130), ignore_index = True)\n",
    "df = df.append(pd.read_csv('tweet-data/File Startup 7.csv').sample(n = 130), ignore_index = True)\n",
    "df = df.append(pd.read_csv('tweet-data/File Startup 8.csv').sample(n = 130), ignore_index = True)\n",
    "df = df.append(pd.read_csv('tweet-data/File Startup 9.csv').sample(n = 130), ignore_index = True)\n",
    "df = df.append(pd.read_csv('tweet-data/File Startup 10.csv').sample(n = 130), ignore_index = True)\n",
    "df = df.append(pd.read_csv('tweet-data/File Startup 11.csv').sample(n = 130), ignore_index = True)\n",
    "df = df.append(pd.read_csv('tweet-data/File Startup 12.csv').sample(n = 130), ignore_index = True)\n",
    "df = df.append(pd.read_csv('tweet-data/File Startup 13.csv').sample(n = 130), ignore_index = True)\n",
    "df = df.append(pd.read_csv('tweet-data/File Startup 14.csv').sample(n = 130), ignore_index = True)\n",
    "df = df.append(pd.read_csv('tweet-data/File Startup 15.csv').sample(n = 130), ignore_index = True)\n",
    "df = df.append(pd.read_csv('tweet-data/File Startup 16.csv').sample(n = 130), ignore_index = True)\n",
    "df.shape"
   ]
  },
  {
   "cell_type": "code",
   "execution_count": 4,
   "metadata": {},
   "outputs": [
    {
     "data": {
      "text/html": [
       "<div>\n",
       "<style scoped>\n",
       "    .dataframe tbody tr th:only-of-type {\n",
       "        vertical-align: middle;\n",
       "    }\n",
       "\n",
       "    .dataframe tbody tr th {\n",
       "        vertical-align: top;\n",
       "    }\n",
       "\n",
       "    .dataframe thead th {\n",
       "        text-align: right;\n",
       "    }\n",
       "</style>\n",
       "<table border=\"1\" class=\"dataframe\">\n",
       "  <thead>\n",
       "    <tr style=\"text-align: right;\">\n",
       "      <th></th>\n",
       "      <th>Date</th>\n",
       "      <th>Tweet</th>\n",
       "    </tr>\n",
       "  </thead>\n",
       "  <tbody>\n",
       "    <tr>\n",
       "      <th>0</th>\n",
       "      <td>2020-12-15 17:15:36+00:00</td>\n",
       "      <td>wwwwww akhirnya</td>\n",
       "    </tr>\n",
       "    <tr>\n",
       "      <th>1</th>\n",
       "      <td>2020-01-05 00:43:01+00:00</td>\n",
       "      <td>Don't miss hotel deals like these! Our price d...</td>\n",
       "    </tr>\n",
       "    <tr>\n",
       "      <th>2</th>\n",
       "      <td>2020-12-15 13:11:00+00:00</td>\n",
       "      <td>es penonton episode berapa sih yg membuat kali...</td>\n",
       "    </tr>\n",
       "    <tr>\n",
       "      <th>3</th>\n",
       "      <td>2020-12-15 02:58:45+00:00</td>\n",
       "      <td>yuu vaksin ya..</td>\n",
       "    </tr>\n",
       "    <tr>\n",
       "      <th>4</th>\n",
       "      <td>2020-12-14 23:39:39+00:00</td>\n",
       "      <td>Ya Rabbi... Stasiun berita bisa bahas drakor j...</td>\n",
       "    </tr>\n",
       "  </tbody>\n",
       "</table>\n",
       "</div>"
      ],
      "text/plain": [
       "                        Date  \\\n",
       "0  2020-12-15 17:15:36+00:00   \n",
       "1  2020-01-05 00:43:01+00:00   \n",
       "2  2020-12-15 13:11:00+00:00   \n",
       "3  2020-12-15 02:58:45+00:00   \n",
       "4  2020-12-14 23:39:39+00:00   \n",
       "\n",
       "                                               Tweet  \n",
       "0                                   wwwwww akhirnya   \n",
       "1  Don't miss hotel deals like these! Our price d...  \n",
       "2  es penonton episode berapa sih yg membuat kali...  \n",
       "3                               yuu vaksin ya..       \n",
       "4  Ya Rabbi... Stasiun berita bisa bahas drakor j...  "
      ]
     },
     "execution_count": 4,
     "metadata": {},
     "output_type": "execute_result"
    }
   ],
   "source": [
    "def cleanTxt(text):\n",
    "#     text = text.decode(\"utf-8\")\n",
    "    text = re.sub(r'@[A-Za-z0-9]+', '', text)\n",
    "    text = re.sub(r'#\\w+ ?', '', text)\n",
    "    text = re.sub(r'RT[\\s]+', '', text)\n",
    "    text = re.sub(r'https?:\\/\\/\\S+', '', text)\n",
    "    text = re.sub(r\"\\\\n\", ' ', text)\n",
    "    text = re.sub(r\"\\\\\\w+\", '', text)\n",
    "    text = re.sub(r'&\\w+ ?', '', text)\n",
    "    text = text[2:-1]\n",
    "    \n",
    "    return text\n",
    "\n",
    "df['Tweet'] = df['Tweet'].apply(cleanTxt)\n",
    "tweets = df[['Date','Tweet']]\n",
    "tweets = tweets.drop_duplicates(subset=['Tweet'])\n",
    "tweets.head()"
   ]
  },
  {
   "cell_type": "code",
   "execution_count": 171,
   "metadata": {},
   "outputs": [],
   "source": [
    "# tweets.index = tweets['Tweet'].str.len()\n",
    "# tweets = tweets.sort_index(ascending=False).reset_index(drop=True)\n",
    "# tweets = tweets[0:2000]\n",
    "# tweets.head()"
   ]
  },
  {
   "cell_type": "code",
   "execution_count": 5,
   "metadata": {},
   "outputs": [],
   "source": [
    "tweets.to_excel('tweets_filtered.xlsx')"
   ]
  }
 ],
 "metadata": {
  "kernelspec": {
   "display_name": "Python 3",
   "language": "python",
   "name": "python3"
  },
  "language_info": {
   "codemirror_mode": {
    "name": "ipython",
    "version": 3
   },
   "file_extension": ".py",
   "mimetype": "text/x-python",
   "name": "python",
   "nbconvert_exporter": "python",
   "pygments_lexer": "ipython3",
   "version": "3.7.3"
  }
 },
 "nbformat": 4,
 "nbformat_minor": 4
}
