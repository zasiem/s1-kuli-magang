{
 "cells": [
  {
   "cell_type": "code",
   "execution_count": 168,
   "metadata": {},
   "outputs": [
    {
     "data": {
      "text/plain": [
       "(2080, 3)"
      ]
     },
     "execution_count": 168,
     "metadata": {},
     "output_type": "execute_result"
    }
   ],
   "source": [
    "import re\n",
    "\n",
    "import pandas as pd\n",
    "import numpy as np\n",
    "\n",
    "df = pd.read_csv('tweet-data/File Startup 1.csv').sample(n = 130)\n",
    "df = df.append(pd.read_csv('tweet-data/File Startup 2.csv').sample(n = 130), ignore_index = True)\n",
    "df = df.append(pd.read_csv('tweet-data/File Startup 3.csv').sample(n = 130), ignore_index = True)\n",
    "df = df.append(pd.read_csv('tweet-data/File Startup 4.csv').sample(n = 130), ignore_index = True)\n",
    "df = df.append(pd.read_csv('tweet-data/File Startup 5.csv').sample(n = 130), ignore_index = True)\n",
    "df = df.append(pd.read_csv('tweet-data/File Startup 6.csv').sample(n = 130), ignore_index = True)\n",
    "df = df.append(pd.read_csv('tweet-data/File Startup 7.csv').sample(n = 130), ignore_index = True)\n",
    "df = df.append(pd.read_csv('tweet-data/File Startup 8.csv').sample(n = 130), ignore_index = True)\n",
    "df = df.append(pd.read_csv('tweet-data/File Startup 9.csv').sample(n = 130), ignore_index = True)\n",
    "df = df.append(pd.read_csv('tweet-data/File Startup 10.csv').sample(n = 130), ignore_index = True)\n",
    "df = df.append(pd.read_csv('tweet-data/File Startup 11.csv').sample(n = 130), ignore_index = True)\n",
    "df = df.append(pd.read_csv('tweet-data/File Startup 12.csv').sample(n = 130), ignore_index = True)\n",
    "df = df.append(pd.read_csv('tweet-data/File Startup 13.csv').sample(n = 130), ignore_index = True)\n",
    "df = df.append(pd.read_csv('tweet-data/File Startup 14.csv').sample(n = 130), ignore_index = True)\n",
    "df = df.append(pd.read_csv('tweet-data/File Startup 15.csv').sample(n = 130), ignore_index = True)\n",
    "df = df.append(pd.read_csv('tweet-data/File Startup 16.csv').sample(n = 130), ignore_index = True)\n",
    "df.shape"
   ]
  },
  {
   "cell_type": "code",
   "execution_count": 169,
   "metadata": {},
   "outputs": [
    {
     "data": {
      "text/html": [
       "<div>\n",
       "<style scoped>\n",
       "    .dataframe tbody tr th:only-of-type {\n",
       "        vertical-align: middle;\n",
       "    }\n",
       "\n",
       "    .dataframe tbody tr th {\n",
       "        vertical-align: top;\n",
       "    }\n",
       "\n",
       "    .dataframe thead th {\n",
       "        text-align: right;\n",
       "    }\n",
       "</style>\n",
       "<table border=\"1\" class=\"dataframe\">\n",
       "  <thead>\n",
       "    <tr style=\"text-align: right;\">\n",
       "      <th></th>\n",
       "      <th>Date</th>\n",
       "      <th>Tweet</th>\n",
       "    </tr>\n",
       "  </thead>\n",
       "  <tbody>\n",
       "    <tr>\n",
       "      <th>0</th>\n",
       "      <td>2020-10-19 16:53:44+00:00</td>\n",
       "      <td>Di awali dengan scene bawang ini, mau nangis t...</td>\n",
       "    </tr>\n",
       "    <tr>\n",
       "      <th>1</th>\n",
       "      <td>2020-10-18 15:45:38+00:00</td>\n",
       "      <td>gila ni drama cakep bgt, cinematography-nya ke...</td>\n",
       "    </tr>\n",
       "    <tr>\n",
       "      <th>2</th>\n",
       "      <td>2020-10-19 07:44:54+00:00</td>\n",
       "      <td>jahat bgt</td>\n",
       "    </tr>\n",
       "    <tr>\n",
       "      <th>3</th>\n",
       "      <td>2020-11-21 13:07:02+00:00</td>\n",
       "      <td>Ba yan ep 1 palang dami ko bg iyak</td>\n",
       "    </tr>\n",
       "    <tr>\n",
       "      <th>4</th>\n",
       "      <td>2020-11-30 12:50:36+00:00</td>\n",
       "      <td>gua kalo males nonton drakor gua stalk GTGT W...</td>\n",
       "    </tr>\n",
       "  </tbody>\n",
       "</table>\n",
       "</div>"
      ],
      "text/plain": [
       "                        Date  \\\n",
       "0  2020-10-19 16:53:44+00:00   \n",
       "1  2020-10-18 15:45:38+00:00   \n",
       "2  2020-10-19 07:44:54+00:00   \n",
       "3  2020-11-21 13:07:02+00:00   \n",
       "4  2020-11-30 12:50:36+00:00   \n",
       "\n",
       "                                               Tweet  \n",
       "0  Di awali dengan scene bawang ini, mau nangis t...  \n",
       "1  gila ni drama cakep bgt, cinematography-nya ke...  \n",
       "2                                          jahat bgt  \n",
       "3               Ba yan ep 1 palang dami ko bg iyak    \n",
       "4   gua kalo males nonton drakor gua stalk GTGT W...  "
      ]
     },
     "execution_count": 169,
     "metadata": {},
     "output_type": "execute_result"
    }
   ],
   "source": [
    "def cleanTxt(text):\n",
    "#     text = text.decode(\"utf-8\")\n",
    "    text = re.sub(r'@[A-Za-z0-9]+', '', text)\n",
    "    text = re.sub(r'#\\w+ ?', '', text)\n",
    "    text = re.sub(r'RT[\\s]+', '', text)\n",
    "    text = re.sub(r'https?:\\/\\/\\S+', '', text)\n",
    "    text = re.sub(r\"\\\\n\", ' ', text)\n",
    "    text = re.sub(r\"\\\\\\w+\", '', text)\n",
    "    text = re.sub(r'&\\w+ ?', '', text)\n",
    "    text = text[2:-1]\n",
    "    \n",
    "    return text\n",
    "\n",
    "df['Tweet'] = df['Tweet'].apply(cleanTxt)\n",
    "tweets = df[['Date','Tweet']]\n",
    "tweets = tweets.drop_duplicates(subset=['Tweet'])\n",
    "tweets.head()"
   ]
  },
  {
   "cell_type": "code",
   "execution_count": 171,
   "metadata": {},
   "outputs": [],
   "source": [
    "# tweets.index = tweets['Tweet'].str.len()\n",
    "# tweets = tweets.sort_index(ascending=False).reset_index(drop=True)\n",
    "# tweets = tweets[0:2000]\n",
    "# tweets.head()"
   ]
  },
  {
   "cell_type": "code",
   "execution_count": 172,
   "metadata": {},
   "outputs": [],
   "source": [
    "tweets.to_excel('tweets_filtered.xlsx')"
   ]
  }
 ],
 "metadata": {
  "kernelspec": {
   "display_name": "Python 3",
   "language": "python",
   "name": "python3"
  },
  "language_info": {
   "codemirror_mode": {
    "name": "ipython",
    "version": 3
   },
   "file_extension": ".py",
   "mimetype": "text/x-python",
   "name": "python",
   "nbconvert_exporter": "python",
   "pygments_lexer": "ipython3",
   "version": "3.7.3"
  }
 },
 "nbformat": 4,
 "nbformat_minor": 4
}
