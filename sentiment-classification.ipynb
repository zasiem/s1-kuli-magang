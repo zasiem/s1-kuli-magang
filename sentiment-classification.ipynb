{
 "cells": [
  {
   "cell_type": "code",
   "execution_count": 513,
   "metadata": {},
   "outputs": [
    {
     "data": {
      "text/html": [
       "<div>\n",
       "<style scoped>\n",
       "    .dataframe tbody tr th:only-of-type {\n",
       "        vertical-align: middle;\n",
       "    }\n",
       "\n",
       "    .dataframe tbody tr th {\n",
       "        vertical-align: top;\n",
       "    }\n",
       "\n",
       "    .dataframe thead th {\n",
       "        text-align: right;\n",
       "    }\n",
       "</style>\n",
       "<table border=\"1\" class=\"dataframe\">\n",
       "  <thead>\n",
       "    <tr style=\"text-align: right;\">\n",
       "      <th></th>\n",
       "      <th>label</th>\n",
       "      <th>tweet</th>\n",
       "    </tr>\n",
       "  </thead>\n",
       "  <tbody>\n",
       "    <tr>\n",
       "      <th>0</th>\n",
       "      <td>0</td>\n",
       "      <td>['awal', 'scene', 'bawang', 'nang', 'keinget',...</td>\n",
       "    </tr>\n",
       "    <tr>\n",
       "      <th>1</th>\n",
       "      <td>1</td>\n",
       "      <td>['gila', 'drama', 'cakep', 'cinematography', '...</td>\n",
       "    </tr>\n",
       "    <tr>\n",
       "      <th>2</th>\n",
       "      <td>0</td>\n",
       "      <td>['jahat']</td>\n",
       "    </tr>\n",
       "    <tr>\n",
       "      <th>3</th>\n",
       "      <td>0</td>\n",
       "      <td>['males', 'nonton', 'drakor', 'stalk', 'gtgt',...</td>\n",
       "    </tr>\n",
       "    <tr>\n",
       "      <th>4</th>\n",
       "      <td>0</td>\n",
       "      <td>['nam', 'do', 'san', 'emang', 'kasih', 'previe...</td>\n",
       "    </tr>\n",
       "  </tbody>\n",
       "</table>\n",
       "</div>"
      ],
      "text/plain": [
       "   label                                              tweet\n",
       "0      0  ['awal', 'scene', 'bawang', 'nang', 'keinget',...\n",
       "1      1  ['gila', 'drama', 'cakep', 'cinematography', '...\n",
       "2      0                                          ['jahat']\n",
       "3      0  ['males', 'nonton', 'drakor', 'stalk', 'gtgt',...\n",
       "4      0  ['nam', 'do', 'san', 'emang', 'kasih', 'previe..."
      ]
     },
     "execution_count": 513,
     "metadata": {},
     "output_type": "execute_result"
    }
   ],
   "source": [
    "import pandas as pd\n",
    "import numpy as np\n",
    "import matplotlib.pyplot as plt\n",
    "\n",
    "import tensorflow as tf\n",
    "from tensorflow import keras\n",
    "from keras.models import Sequential\n",
    "from keras.layers import Dense\n",
    "from keras.utils import to_categorical \n",
    "\n",
    "tweets = pd.read_excel('tweets-stemmed.xlsx', usecols=['label','tweet_token_stemmed'])\n",
    "tweets.columns = ['label','tweet']\n",
    "\n",
    "tweets.head()"
   ]
  },
  {
   "cell_type": "code",
   "execution_count": 514,
   "metadata": {},
   "outputs": [
    {
     "data": {
      "image/png": "[encoded data removed]",
      "text/plain": [
       "<Figure size 432x288 with 1 Axes>"
      ]
     },
     "metadata": {
      "needs_background": "light"
     },
     "output_type": "display_data"
    }
   ],
   "source": [
    "temp = tweets['label'].value_counts()\n",
    "plt.bar([0,1,2], height=temp)\n",
    "plt.ylabel('tes')\n",
    "plt.show()"
   ]
  },
  {
   "cell_type": "code",
   "execution_count": 515,
   "metadata": {},
   "outputs": [
    {
     "data": {
      "text/plain": [
       "0    awal scene bawang nang keinget karakter romant...\n",
       "1    gila drama cakep cinematography kece cerita ba...\n",
       "2                                                jahat\n",
       "3                 males nonton drakor stalk gtgt wkwkw\n",
       "4    nam do san emang kasih preview dikit opening d...\n",
       "Name: tweet_join, dtype: object"
      ]
     },
     "execution_count": 515,
     "metadata": {},
     "output_type": "execute_result"
    }
   ],
   "source": [
    "#parse string to list\n",
    "import ast\n",
    "\n",
    "#join list\n",
    "def join_text_list(texts):\n",
    "    texts = ast.literal_eval(texts)\n",
    "    return ' '.join([text for text in texts])\n",
    "tweets[\"tweet_join\"] = tweets[\"tweet\"].apply(join_text_list)\n",
    "tweets[\"tweet_join\"].head()"
   ]
  },
  {
   "cell_type": "code",
   "execution_count": 516,
   "metadata": {},
   "outputs": [
    {
     "name": "stdout",
     "output_type": "stream",
     "text": [
      "                                          tweet_join\n",
      "0  awal scene bawang nang keinget karakter romant...\n",
      "1  gila drama cakep cinematography kece cerita ba...\n",
      "2                                              jahat\n",
      "3               males nonton drakor stalk gtgt wkwkw\n",
      "4  nam do san emang kasih preview dikit opening d...\n",
      "0    0\n",
      "1    1\n",
      "2    0\n",
      "3    0\n",
      "4    0\n",
      "Name: label, dtype: int64\n"
     ]
    }
   ],
   "source": [
    "#define predictor and target for classification\n",
    "\n",
    "target = 'label'\n",
    "predictor = ['tweet_join']\n",
    "y = tweets[target]\n",
    "X = tweets[predictor]\n",
    "\n",
    "print(X.head())\n",
    "print(y.head())"
   ]
  },
  {
   "cell_type": "code",
   "execution_count": 517,
   "metadata": {},
   "outputs": [
    {
     "data": {
      "image/png": "[encoded data removed]",
      "text/plain": [
       "<Figure size 432x288 with 1 Axes>"
      ]
     },
     "metadata": {
      "needs_background": "light"
     },
     "output_type": "display_data"
    }
   ],
   "source": [
    "def convert_text_list(texts):\n",
    "    texts = ast.literal_eval(texts)\n",
    "    return len(texts)\n",
    "\n",
    "tweets[\"tweet_list\"] = tweets[\"tweet\"].apply(convert_text_list)\n",
    "\n",
    "plt.boxplot(tweets[\"tweet_list\"])\n",
    "plt.ylabel('Jumlah Kata')\n",
    "plt.show()"
   ]
  },
  {
   "cell_type": "code",
   "execution_count": 518,
   "metadata": {},
   "outputs": [
    {
     "name": "stdout",
     "output_type": "stream",
     "text": [
      "<class 'numpy.ndarray'> (2085, 4724)\n",
      "<class 'numpy.ndarray'> (2085, 4724)\n",
      "<class 'scipy.sparse.csr.csr_matrix'> (2085, 1048576)\n"
     ]
    }
   ],
   "source": [
    "#testing\n",
    "from sklearn.feature_extraction.text import TfidfVectorizer, CountVectorizer, HashingVectorizer\n",
    "\n",
    "max_features = 38\n",
    "\n",
    "tf_idf = TfidfVectorizer()\n",
    "X_tfidf = tf_idf.fit_transform(X['tweet_join']).toarray()\n",
    "print(type(X_tfidf), X_tfidf.shape)\n",
    "\n",
    "cv = CountVectorizer()\n",
    "X_cv = cv.fit_transform(X['tweet_join']).toarray()\n",
    "print(type(X_cv), X_cv.shape)\n",
    "\n",
    "hv = HashingVectorizer()\n",
    "X_hv = hv.fit_transform(X['tweet_join'])\n",
    "print(type(X_hv), X_hv.shape)"
   ]
  },
  {
   "cell_type": "code",
   "execution_count": 520,
   "metadata": {},
   "outputs": [
    {
     "name": "stdout",
     "output_type": "stream",
     "text": [
      "(1334, 4724)\n",
      "(1334,)\n",
      "(751, 4724)\n",
      "(751,)\n",
      "0    706\n",
      "1    450\n",
      "2    178\n",
      "Name: label, dtype: int64\n",
      "0    370\n",
      "1    277\n",
      "2    104\n",
      "Name: label, dtype: int64\n"
     ]
    }
   ],
   "source": [
    "from sklearn.model_selection import train_test_split\n",
    "\n",
    "X_train, X_test, y_train, y_test = train_test_split(X_tfidf, y, test_size=0.36, random_state=200)\n",
    "print(X_train.shape)\n",
    "print(y_train.shape)\n",
    "print(X_test.shape)\n",
    "print(y_test.shape)\n",
    "\n",
    "print(y_train.value_counts())\n",
    "print(y_test.value_counts())"
   ]
  },
  {
   "cell_type": "code",
   "execution_count": 521,
   "metadata": {},
   "outputs": [
    {
     "name": "stdout",
     "output_type": "stream",
     "text": [
      "<class 'numpy.ndarray'> (1334, 3)\n",
      "<class 'numpy.ndarray'> (751, 3)\n"
     ]
    }
   ],
   "source": [
    "y_train_categorical = to_categorical(y_train)\n",
    "y_test_categorical = to_categorical(y_test)\n",
    "\n",
    "print(type(y_train_categorical),y_train_categorical.shape)\n",
    "print(type(y_test_categorical),y_test_categorical.shape)"
   ]
  },
  {
   "cell_type": "code",
   "execution_count": 522,
   "metadata": {},
   "outputs": [
    {
     "name": "stdout",
     "output_type": "stream",
     "text": [
      "Epoch 1/20\n",
      "1334/1334 [==============================] - 0s 291us/step - loss: 1.0784 - accuracy: 0.4565\n",
      "Epoch 2/20\n",
      "1334/1334 [==============================] - 0s 208us/step - loss: 0.9872 - accuracy: 0.7061\n",
      "Epoch 3/20\n",
      "1334/1334 [==============================] - 0s 203us/step - loss: 0.8045 - accuracy: 0.7751\n",
      "Epoch 4/20\n",
      "1334/1334 [==============================] - 0s 209us/step - loss: 0.5203 - accuracy: 0.8201\n",
      "Epoch 5/20\n",
      "1334/1334 [==============================] - 0s 237us/step - loss: 0.2739 - accuracy: 0.9273\n",
      "Epoch 6/20\n",
      "1334/1334 [==============================] - 0s 250us/step - loss: 0.1342 - accuracy: 0.9753\n",
      "Epoch 7/20\n",
      "1334/1334 [==============================] - 0s 200us/step - loss: 0.0741 - accuracy: 0.9820\n",
      "Epoch 8/20\n",
      "1334/1334 [==============================] - 0s 224us/step - loss: 0.0520 - accuracy: 0.9865\n",
      "Epoch 9/20\n",
      "1334/1334 [==============================] - 0s 214us/step - loss: 0.0449 - accuracy: 0.9850\n",
      "Epoch 10/20\n",
      "1334/1334 [==============================] - 0s 206us/step - loss: 0.0390 - accuracy: 0.9843\n",
      "Epoch 11/20\n",
      "1334/1334 [==============================] - 0s 202us/step - loss: 0.0309 - accuracy: 0.9895\n",
      "Epoch 12/20\n",
      "1334/1334 [==============================] - 0s 221us/step - loss: 0.0291 - accuracy: 0.9895\n",
      "Epoch 13/20\n",
      "1334/1334 [==============================] - 0s 229us/step - loss: 0.0283 - accuracy: 0.9895\n",
      "Epoch 14/20\n",
      "1334/1334 [==============================] - 0s 216us/step - loss: 0.0291 - accuracy: 0.9888\n",
      "Epoch 15/20\n",
      "1334/1334 [==============================] - 0s 234us/step - loss: 0.0262 - accuracy: 0.9888\n",
      "Epoch 16/20\n",
      "1334/1334 [==============================] - 0s 216us/step - loss: 0.0224 - accuracy: 0.9888\n",
      "Epoch 17/20\n",
      "1334/1334 [==============================] - 0s 240us/step - loss: 0.0223 - accuracy: 0.9903\n",
      "Epoch 18/20\n",
      "1334/1334 [==============================] - 0s 209us/step - loss: 0.0258 - accuracy: 0.9888\n",
      "Epoch 19/20\n",
      "1334/1334 [==============================] - 0s 207us/step - loss: 0.0224 - accuracy: 0.9903\n",
      "Epoch 20/20\n",
      "1334/1334 [==============================] - 0s 215us/step - loss: 0.0248 - accuracy: 0.9888\n"
     ]
    },
    {
     "data": {
      "text/plain": [
       "<keras.callbacks.callbacks.History at 0x1ea62b6e2e8>"
      ]
     },
     "execution_count": 522,
     "metadata": {},
     "output_type": "execute_result"
    }
   ],
   "source": [
    "#creating model sequential\n",
    "model = Sequential()\n",
    "model.add(Dense(64, input_dim=4724, activation='relu'))\n",
    "model.add(Dense(16, activation='relu'))\n",
    "model.add(Dense(8, activation='relu'))\n",
    "model.add(Dense(3, activation='softmax'))\n",
    "\n",
    "#compile kelas model\n",
    "model.compile(loss='categorical_crossentropy', optimizer='adam', metrics=['accuracy'])\n",
    "\n",
    "# fit the keras model on the dataset\n",
    "model.fit(X_train, y_train_categorical, epochs=20)"
   ]
  },
  {
   "cell_type": "code",
   "execution_count": 523,
   "metadata": {},
   "outputs": [
    {
     "name": "stdout",
     "output_type": "stream",
     "text": [
      "1334/1334 [==============================] - 0s 72us/step\n",
      "Accuracy on training data: 0.9917541146278381% \n",
      " Error on training data: 0.008245885372161865\n"
     ]
    }
   ],
   "source": [
    "#evaluate train data\n",
    "\n",
    "scores = model.evaluate(X_train, y_train_categorical)\n",
    "print('Accuracy on training data: {}% \\n Error on training data: {}'.format(scores[1], 1 - scores[1]))   "
   ]
  },
  {
   "cell_type": "code",
   "execution_count": 524,
   "metadata": {},
   "outputs": [
    {
     "data": {
      "text/plain": [
       "array([0, 0, 1, 0, 0, 0, 2, 0, 0, 0, 0, 1, 1, 0, 0, 1, 0, 0, 0, 0, 1, 0,\n",
       "       1, 0, 0, 0, 0, 0, 0, 1, 2, 2, 1, 0, 0, 0, 0, 0, 0, 0, 0, 1, 1, 0,\n",
       "       1, 0, 0, 0, 0, 0, 0, 0, 1, 0, 0, 1, 2, 0, 0, 0, 0, 1, 0, 0, 0, 2,\n",
       "       0, 0, 1, 1, 1, 0, 0, 0, 0, 1, 2, 1, 0, 0, 0, 0, 2, 0, 0, 0, 1, 0,\n",
       "       0, 0, 0, 1, 0, 0, 0, 0, 0, 2, 0, 0, 0, 0, 0, 0, 0, 1, 0, 0, 0, 2,\n",
       "       0, 1, 0, 0, 0, 1, 0, 1, 1, 0, 2, 1, 1, 1, 0, 0, 0, 0, 0, 0, 0, 0,\n",
       "       1, 0, 1, 0, 0, 0, 0, 0, 0, 0, 1, 0, 0, 1, 1, 1, 0, 0, 1, 0, 1, 1,\n",
       "       1, 0, 2, 1, 1, 1, 0, 1, 0, 1, 0, 1, 2, 0, 0, 0, 1, 0, 1, 1, 0, 1,\n",
       "       0, 0, 0, 1, 0, 1, 1, 0, 0, 0, 1, 0, 1, 0, 2, 0, 0, 1, 0, 0, 0, 0,\n",
       "       0, 1, 0, 0, 0, 0, 1, 0, 0, 1, 0, 0, 2, 1, 0, 0, 0, 0, 1, 0, 0, 0,\n",
       "       1, 0, 1, 1, 0, 0, 2, 0, 0, 0, 0, 0, 0, 0, 1, 0, 0, 0, 0, 2, 0, 0,\n",
       "       0, 0, 1, 0, 0, 2, 0, 0, 0, 0, 2, 2, 2, 1, 0, 0, 0, 2, 0, 0, 0, 1,\n",
       "       0, 0, 0, 1, 0, 2, 1, 0, 1, 0, 0, 1, 0, 1, 1, 0, 0, 0, 0, 0, 0, 1,\n",
       "       1, 0, 0, 1, 0, 0, 0, 0, 1, 0, 0, 1, 0, 0, 0, 0, 1, 0, 1, 0, 0, 0,\n",
       "       1, 1, 0, 1, 0, 0, 0, 1, 0, 0, 1, 0, 0, 1, 0, 1, 0, 0, 0, 1, 0, 0,\n",
       "       2, 0, 1, 0, 1, 2, 0, 0, 2, 0, 0, 2, 2, 0, 0, 0, 0, 0, 0, 1, 0, 2,\n",
       "       1, 2, 0, 1, 1, 1, 1, 0, 0, 0, 0, 0, 0, 0, 0, 0, 0, 1, 1, 1, 1, 0,\n",
       "       1, 0, 0, 1, 2, 1, 0, 1, 0, 0, 0, 2, 0, 0, 1, 0, 1, 0, 1, 2, 0, 0,\n",
       "       0, 1, 0, 0, 0, 1, 0, 2, 0, 0, 0, 0, 0, 1, 2, 0, 1, 0, 0, 0, 1, 2,\n",
       "       0, 0, 1, 0, 0, 0, 1, 0, 0, 1, 2, 0, 0, 0, 0, 0, 2, 0, 0, 0, 1, 0,\n",
       "       0, 1, 0, 0, 1, 1, 0, 1, 0, 0, 1, 0, 0, 0, 2, 2, 0, 1, 0, 0, 0, 0,\n",
       "       1, 1, 0, 1, 0, 0, 2, 2, 0, 0, 0, 1, 1, 1, 0, 0, 0, 0, 1, 1, 0, 0,\n",
       "       0, 1, 1, 1, 1, 0, 0, 0, 0, 0, 0, 1, 0, 2, 0, 0, 1, 0, 1, 1, 2, 0,\n",
       "       1, 0, 0, 1, 0, 1, 0, 0, 1, 0, 2, 0, 0, 0, 1, 2, 0, 0, 1, 0, 1, 0,\n",
       "       0, 0, 1, 1, 0, 0, 0, 1, 0, 0, 2, 0, 0, 0, 0, 0, 1, 1, 0, 0, 1, 1,\n",
       "       1, 0, 0, 0, 1, 0, 1, 0, 2, 0, 0, 1, 1, 0, 1, 2, 0, 0, 0, 0, 2, 0,\n",
       "       1, 0, 0, 1, 0, 0, 0, 0, 1, 0, 2, 2, 0, 0, 0, 0, 1, 1, 2, 0, 0, 1,\n",
       "       1, 0, 1, 0, 1, 2, 0, 0, 0, 0, 1, 2, 0, 0, 2, 1, 2, 2, 0, 0, 0, 0,\n",
       "       1, 1, 0, 0, 0, 1, 0, 1, 1, 1, 2, 0, 0, 0, 1, 0, 1, 1, 1, 2, 0, 0,\n",
       "       0, 0, 0, 2, 0, 0, 0, 1, 0, 2, 0, 0, 0, 0, 0, 0, 0, 1, 0, 0, 0, 0,\n",
       "       0, 0, 0, 0, 1, 1, 0, 0, 0, 0, 0, 1, 0, 1, 0, 1, 0, 0, 0, 2, 0, 2,\n",
       "       0, 1, 2, 1, 1, 0, 0, 1, 0, 0, 2, 2, 0, 0, 1, 0, 0, 1, 1, 0, 0, 0,\n",
       "       0, 0, 0, 0, 0, 0, 1, 1, 0, 0, 0, 0, 0, 0, 0, 2, 0, 0, 0, 1, 0, 0,\n",
       "       0, 1, 0, 0, 2, 0, 0, 0, 0, 0, 0, 0, 0, 0, 1, 0, 1, 0, 0, 1, 0, 2,\n",
       "       0, 0, 1], dtype=int64)"
      ]
     },
     "execution_count": 524,
     "metadata": {},
     "output_type": "execute_result"
    }
   ],
   "source": [
    "dataTesting = X_test\n",
    "predictions = model.predict_classes(dataTesting)\n",
    "predictions"
   ]
  },
  {
   "cell_type": "code",
   "execution_count": 525,
   "metadata": {},
   "outputs": [
    {
     "data": {
      "image/png": "[encoded data removed]",
      "text/plain": [
       "<Figure size 432x288 with 2 Axes>"
      ]
     },
     "metadata": {
      "needs_background": "light"
     },
     "output_type": "display_data"
    }
   ],
   "source": [
    "#evaluation confussion matrix\n",
    "\n",
    "from sklearn.metrics import confusion_matrix\n",
    "import seaborn as sn\n",
    "import matplotlib.pyplot as plt\n",
    "\n",
    "matrix = confusion_matrix(y_test, predictions)\n",
    "sn.heatmap(matrix, annot=True)\n",
    "plt.xlabel(\"Predictions\")\n",
    "plt.ylabel(\"True\") \n",
    "plt.show()"
   ]
  },
  {
   "cell_type": "code",
   "execution_count": 526,
   "metadata": {},
   "outputs": [
    {
     "name": "stdout",
     "output_type": "stream",
     "text": [
      "Accuracy: 0.60\n",
      "Error Rate: 0.40\n",
      "F1 Score: 0.52\n",
      "Precision Score: 0.55\n",
      "Recall Score: 0.51\n"
     ]
    }
   ],
   "source": [
    "#check accuration score from confussion matrix using library\n",
    "\n",
    "from sklearn.metrics import accuracy_score, f1_score, precision_score, recall_score\n",
    "print('Accuracy: {:.2f}'.format(accuracy_score(y_test, predictions)))\n",
    "print('Error Rate: {:.2f}'.format(1 - accuracy_score(y_test, predictions)))\n",
    "print('F1 Score: {:.2f}'.format(f1_score(y_test, predictions, average='macro')))\n",
    "print('Precision Score: {:.2f}'.format(precision_score(y_test, predictions, average='macro')))\n",
    "print('Recall Score: {:.2f}'.format(recall_score(y_test, predictions, average='macro')))"
   ]
  }
 ],
 "metadata": {
  "kernelspec": {
   "display_name": "Python 3",
   "language": "python",
   "name": "python3"
  },
  "language_info": {
   "codemirror_mode": {
    "name": "ipython",
    "version": 3
   },
   "file_extension": ".py",
   "mimetype": "text/x-python",
   "name": "python",
   "nbconvert_exporter": "python",
   "pygments_lexer": "ipython3",
   "version": "3.7.3"
  }
 },
 "nbformat": 4,
 "nbformat_minor": 4
}
